{
 "cells": [
  {
   "cell_type": "code",
   "execution_count": 17,
   "metadata": {},
   "outputs": [],
   "source": [
    "import plotly\n",
    "import plotly.plotly as py\n",
    "import plotly.graph_objs as go\n",
    "import plotly.io as pio\n",
    "import pandas as pd"
   ]
  },
  {
   "cell_type": "code",
   "execution_count": 77,
   "metadata": {},
   "outputs": [],
   "source": [
    "json_path = '../static/data/SBER.ME.json'\n",
    "df = pd.read_json(json_path)"
   ]
  },
  {
   "cell_type": "code",
   "execution_count": 88,
   "metadata": {},
   "outputs": [],
   "source": [
    "df = df.tail(112)"
   ]
  },
  {
   "cell_type": "code",
   "execution_count": 79,
   "metadata": {},
   "outputs": [],
   "source": [
    "get_open = lambda item: item['open']\n",
    "get_close = lambda item: item['close']\n",
    "get_high = lambda item: item['high']\n",
    "get_low = lambda item: item['low']"
   ]
  },
  {
   "cell_type": "code",
   "execution_count": 80,
   "metadata": {},
   "outputs": [
    {
     "data": {
      "text/plain": [
       "2019-01-24    210.40\n",
       "2019-01-25    212.76\n",
       "2019-01-28    212.00\n",
       "2019-01-29    209.71\n",
       "2019-01-30    213.80\n",
       "Name: history, dtype: object"
      ]
     },
     "execution_count": 80,
     "metadata": {},
     "output_type": "execute_result"
    }
   ],
   "source": [
    "df_open = df['history'].map(get_open)\n",
    "df_open.head()"
   ]
  },
  {
   "cell_type": "code",
   "execution_count": 81,
   "metadata": {},
   "outputs": [
    {
     "data": {
      "text/plain": [
       "2019-01-24    212.20\n",
       "2019-01-25    212.00\n",
       "2019-01-28    209.70\n",
       "2019-01-29    213.61\n",
       "2019-01-30    213.14\n",
       "Name: history, dtype: object"
      ]
     },
     "execution_count": 81,
     "metadata": {},
     "output_type": "execute_result"
    }
   ],
   "source": [
    "df_close = df['history'].map(get_close)\n",
    "df_close.head()"
   ]
  },
  {
   "cell_type": "code",
   "execution_count": 82,
   "metadata": {},
   "outputs": [
    {
     "data": {
      "text/plain": [
       "2019-01-24    213.43\n",
       "2019-01-25    214.14\n",
       "2019-01-28    213.30\n",
       "2019-01-29    214.49\n",
       "2019-01-30    215.70\n",
       "Name: history, dtype: object"
      ]
     },
     "execution_count": 82,
     "metadata": {},
     "output_type": "execute_result"
    }
   ],
   "source": [
    "df_high = df['history'].map(get_high)\n",
    "df_high.head()"
   ]
  },
  {
   "cell_type": "code",
   "execution_count": 83,
   "metadata": {},
   "outputs": [
    {
     "data": {
      "text/plain": [
       "2019-01-24    208.55\n",
       "2019-01-25    211.01\n",
       "2019-01-28    207.63\n",
       "2019-01-29    206.91\n",
       "2019-01-30    212.22\n",
       "Name: history, dtype: object"
      ]
     },
     "execution_count": 83,
     "metadata": {},
     "output_type": "execute_result"
    }
   ],
   "source": [
    "df_low = df['history'].map(get_low)\n",
    "df_low.head()"
   ]
  },
  {
   "cell_type": "code",
   "execution_count": 84,
   "metadata": {},
   "outputs": [
    {
     "data": {
      "text/plain": [
       "DatetimeIndex(['2019-01-24', '2019-01-25', '2019-01-28', '2019-01-29',\n",
       "               '2019-01-30', '2019-01-31', '2019-02-01', '2019-02-04',\n",
       "               '2019-02-05', '2019-02-06',\n",
       "               ...\n",
       "               '2019-06-21', '2019-06-24', '2019-06-25', '2019-06-26',\n",
       "               '2019-06-27', '2019-06-28', '2019-07-01', '2019-07-02',\n",
       "               '2019-07-03', '2019-07-05'],\n",
       "              dtype='datetime64[ns]', length=112, freq=None)"
      ]
     },
     "execution_count": 84,
     "metadata": {},
     "output_type": "execute_result"
    }
   ],
   "source": [
    "df.index"
   ]
  },
  {
   "cell_type": "code",
   "execution_count": 85,
   "metadata": {},
   "outputs": [],
   "source": [
    "trace = go.Candlestick(x=df.index,\n",
    "                       open=df_open,\n",
    "                       high=df_high,\n",
    "                       low=df_low,\n",
    "                       close=df_close)\n",
    "layout = go.Layout(xaxis = dict(rangeslider = dict(visible = False)))\n",
    "data = [trace]"
   ]
  },
  {
   "cell_type": "code",
   "execution_count": 86,
   "metadata": {},
   "outputs": [
    {
     "name": "stdout",
     "output_type": "stream",
     "text": [
      "High five! You successfully sent some data to your account on plotly. View your plot in your browser at https://plot.ly/~airvan21/0 or inside your plot.ly account where it is named 'simple_candlestick'\n"
     ]
    },
    {
     "data": {
      "text/html": [
       "<iframe id=\"igraph\" scrolling=\"no\" style=\"border:none;\" seamless=\"seamless\" src=\"https://plot.ly/~airvan21/0.embed\" height=\"525px\" width=\"100%\"></iframe>"
      ],
      "text/plain": [
       "<plotly.tools.PlotlyDisplay object>"
      ]
     },
     "execution_count": 86,
     "metadata": {},
     "output_type": "execute_result"
    }
   ],
   "source": [
    "fig = go.Figure(data=data,layout=layout)\n",
    "py.iplot(fig, filename='simple_candlestick')"
   ]
  },
  {
   "cell_type": "code",
   "execution_count": null,
   "metadata": {},
   "outputs": [],
   "source": []
  }
 ],
 "metadata": {
  "kernelspec": {
   "display_name": "Python 3",
   "language": "python",
   "name": "python3"
  },
  "language_info": {
   "codemirror_mode": {
    "name": "ipython",
    "version": 3
   },
   "file_extension": ".py",
   "mimetype": "text/x-python",
   "name": "python",
   "nbconvert_exporter": "python",
   "pygments_lexer": "ipython3",
   "version": "3.7.0"
  }
 },
 "nbformat": 4,
 "nbformat_minor": 2
}
