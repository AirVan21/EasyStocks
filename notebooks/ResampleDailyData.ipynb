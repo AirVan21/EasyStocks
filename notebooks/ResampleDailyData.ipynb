{
 "cells": [
  {
   "cell_type": "code",
   "execution_count": 5,
   "metadata": {},
   "outputs": [],
   "source": [
    "import pandas as pd\n",
    "import chart\n",
    "import plotly.graph_objs as go\n",
    "import plotly.io as pio\n",
    "import os"
   ]
  },
  {
   "cell_type": "code",
   "execution_count": 7,
   "metadata": {},
   "outputs": [
    {
     "data": {
      "text/html": [
       "<div>\n",
       "<style scoped>\n",
       "    .dataframe tbody tr th:only-of-type {\n",
       "        vertical-align: middle;\n",
       "    }\n",
       "\n",
       "    .dataframe tbody tr th {\n",
       "        vertical-align: top;\n",
       "    }\n",
       "\n",
       "    .dataframe thead th {\n",
       "        text-align: right;\n",
       "    }\n",
       "</style>\n",
       "<table border=\"1\" class=\"dataframe\">\n",
       "  <thead>\n",
       "    <tr style=\"text-align: right;\">\n",
       "      <th></th>\n",
       "      <th>Date</th>\n",
       "      <th>Open</th>\n",
       "      <th>Close</th>\n",
       "      <th>High</th>\n",
       "      <th>Low</th>\n",
       "      <th>Volume</th>\n",
       "    </tr>\n",
       "  </thead>\n",
       "  <tbody>\n",
       "    <tr>\n",
       "      <td>0</td>\n",
       "      <td>2019-10-03</td>\n",
       "      <td>223.60</td>\n",
       "      <td>224.08</td>\n",
       "      <td>225.64</td>\n",
       "      <td>222.61</td>\n",
       "      <td>38368040</td>\n",
       "    </tr>\n",
       "    <tr>\n",
       "      <td>1</td>\n",
       "      <td>2019-10-02</td>\n",
       "      <td>226.05</td>\n",
       "      <td>223.50</td>\n",
       "      <td>226.63</td>\n",
       "      <td>223.03</td>\n",
       "      <td>42441850</td>\n",
       "    </tr>\n",
       "    <tr>\n",
       "      <td>2</td>\n",
       "      <td>2019-10-01</td>\n",
       "      <td>227.55</td>\n",
       "      <td>226.49</td>\n",
       "      <td>229.56</td>\n",
       "      <td>226.49</td>\n",
       "      <td>29870590</td>\n",
       "    </tr>\n",
       "    <tr>\n",
       "      <td>3</td>\n",
       "      <td>2019-09-30</td>\n",
       "      <td>228.50</td>\n",
       "      <td>227.71</td>\n",
       "      <td>229.00</td>\n",
       "      <td>226.05</td>\n",
       "      <td>30235910</td>\n",
       "    </tr>\n",
       "    <tr>\n",
       "      <td>4</td>\n",
       "      <td>2019-09-27</td>\n",
       "      <td>229.20</td>\n",
       "      <td>228.05</td>\n",
       "      <td>229.96</td>\n",
       "      <td>228.05</td>\n",
       "      <td>18062510</td>\n",
       "    </tr>\n",
       "  </tbody>\n",
       "</table>\n",
       "</div>"
      ],
      "text/plain": [
       "         Date    Open   Close    High     Low    Volume\n",
       "0  2019-10-03  223.60  224.08  225.64  222.61  38368040\n",
       "1  2019-10-02  226.05  223.50  226.63  223.03  42441850\n",
       "2  2019-10-01  227.55  226.49  229.56  226.49  29870590\n",
       "3  2019-09-30  228.50  227.71  229.00  226.05  30235910\n",
       "4  2019-09-27  229.20  228.05  229.96  228.05  18062510"
      ]
     },
     "execution_count": 7,
     "metadata": {},
     "output_type": "execute_result"
    }
   ],
   "source": [
    "df = pd.read_csv('../static/data/worldtradingdata/SBER.ME.csv')\n",
    "df.head()"
   ]
  },
  {
   "cell_type": "code",
   "execution_count": 8,
   "metadata": {},
   "outputs": [
    {
     "data": {
      "text/plain": [
       "Date       object\n",
       "Open      float64\n",
       "Close     float64\n",
       "High      float64\n",
       "Low       float64\n",
       "Volume      int64\n",
       "dtype: object"
      ]
     },
     "execution_count": 8,
     "metadata": {},
     "output_type": "execute_result"
    }
   ],
   "source": [
    "df.dtypes"
   ]
  },
  {
   "cell_type": "code",
   "execution_count": 9,
   "metadata": {},
   "outputs": [
    {
     "data": {
      "text/html": [
       "<div>\n",
       "<style scoped>\n",
       "    .dataframe tbody tr th:only-of-type {\n",
       "        vertical-align: middle;\n",
       "    }\n",
       "\n",
       "    .dataframe tbody tr th {\n",
       "        vertical-align: top;\n",
       "    }\n",
       "\n",
       "    .dataframe thead th {\n",
       "        text-align: right;\n",
       "    }\n",
       "</style>\n",
       "<table border=\"1\" class=\"dataframe\">\n",
       "  <thead>\n",
       "    <tr style=\"text-align: right;\">\n",
       "      <th></th>\n",
       "      <th>Open</th>\n",
       "      <th>Close</th>\n",
       "      <th>High</th>\n",
       "      <th>Low</th>\n",
       "      <th>Volume</th>\n",
       "    </tr>\n",
       "    <tr>\n",
       "      <th>Date</th>\n",
       "      <th></th>\n",
       "      <th></th>\n",
       "      <th></th>\n",
       "      <th></th>\n",
       "      <th></th>\n",
       "    </tr>\n",
       "  </thead>\n",
       "  <tbody>\n",
       "    <tr>\n",
       "      <td>2019-10-03</td>\n",
       "      <td>223.60</td>\n",
       "      <td>224.08</td>\n",
       "      <td>225.64</td>\n",
       "      <td>222.61</td>\n",
       "      <td>38368040</td>\n",
       "    </tr>\n",
       "    <tr>\n",
       "      <td>2019-10-02</td>\n",
       "      <td>226.05</td>\n",
       "      <td>223.50</td>\n",
       "      <td>226.63</td>\n",
       "      <td>223.03</td>\n",
       "      <td>42441850</td>\n",
       "    </tr>\n",
       "    <tr>\n",
       "      <td>2019-10-01</td>\n",
       "      <td>227.55</td>\n",
       "      <td>226.49</td>\n",
       "      <td>229.56</td>\n",
       "      <td>226.49</td>\n",
       "      <td>29870590</td>\n",
       "    </tr>\n",
       "    <tr>\n",
       "      <td>2019-09-30</td>\n",
       "      <td>228.50</td>\n",
       "      <td>227.71</td>\n",
       "      <td>229.00</td>\n",
       "      <td>226.05</td>\n",
       "      <td>30235910</td>\n",
       "    </tr>\n",
       "    <tr>\n",
       "      <td>2019-09-27</td>\n",
       "      <td>229.20</td>\n",
       "      <td>228.05</td>\n",
       "      <td>229.96</td>\n",
       "      <td>228.05</td>\n",
       "      <td>18062510</td>\n",
       "    </tr>\n",
       "  </tbody>\n",
       "</table>\n",
       "</div>"
      ],
      "text/plain": [
       "              Open   Close    High     Low    Volume\n",
       "Date                                                \n",
       "2019-10-03  223.60  224.08  225.64  222.61  38368040\n",
       "2019-10-02  226.05  223.50  226.63  223.03  42441850\n",
       "2019-10-01  227.55  226.49  229.56  226.49  29870590\n",
       "2019-09-30  228.50  227.71  229.00  226.05  30235910\n",
       "2019-09-27  229.20  228.05  229.96  228.05  18062510"
      ]
     },
     "execution_count": 9,
     "metadata": {},
     "output_type": "execute_result"
    }
   ],
   "source": [
    "df['Date'] = pd.to_datetime(df['Date'], errors='ignore')\n",
    "df.set_index('Date', inplace=True)\n",
    "df.head()"
   ]
  },
  {
   "cell_type": "code",
   "execution_count": 10,
   "metadata": {},
   "outputs": [
    {
     "data": {
      "text/plain": [
       "Open      float64\n",
       "Close     float64\n",
       "High      float64\n",
       "Low       float64\n",
       "Volume      int64\n",
       "dtype: object"
      ]
     },
     "execution_count": 10,
     "metadata": {},
     "output_type": "execute_result"
    }
   ],
   "source": [
    "df.dtypes"
   ]
  },
  {
   "cell_type": "code",
   "execution_count": 11,
   "metadata": {},
   "outputs": [],
   "source": [
    "aggregator = {'Open'  : 'first',\n",
    "              'Close' : 'last',\n",
    "              'High'  : 'max',\n",
    "              'Low'   : 'min',\n",
    "              'Volume': 'sum'}"
   ]
  },
  {
   "cell_type": "code",
   "execution_count": 12,
   "metadata": {},
   "outputs": [],
   "source": [
    "offset = pd.offsets.timedelta(days=-6)"
   ]
  },
  {
   "cell_type": "code",
   "execution_count": 13,
   "metadata": {},
   "outputs": [
    {
     "data": {
      "text/html": [
       "<div>\n",
       "<style scoped>\n",
       "    .dataframe tbody tr th:only-of-type {\n",
       "        vertical-align: middle;\n",
       "    }\n",
       "\n",
       "    .dataframe tbody tr th {\n",
       "        vertical-align: top;\n",
       "    }\n",
       "\n",
       "    .dataframe thead th {\n",
       "        text-align: right;\n",
       "    }\n",
       "</style>\n",
       "<table border=\"1\" class=\"dataframe\">\n",
       "  <thead>\n",
       "    <tr style=\"text-align: right;\">\n",
       "      <th></th>\n",
       "      <th>Open</th>\n",
       "      <th>Close</th>\n",
       "      <th>High</th>\n",
       "      <th>Low</th>\n",
       "      <th>Volume</th>\n",
       "    </tr>\n",
       "    <tr>\n",
       "      <th>Date</th>\n",
       "      <th></th>\n",
       "      <th></th>\n",
       "      <th></th>\n",
       "      <th></th>\n",
       "      <th></th>\n",
       "    </tr>\n",
       "  </thead>\n",
       "  <tbody>\n",
       "    <tr>\n",
       "      <td>2011-11-21</td>\n",
       "      <td>79.00</td>\n",
       "      <td>78.27</td>\n",
       "      <td>79.37</td>\n",
       "      <td>73.75</td>\n",
       "      <td>1398299520</td>\n",
       "    </tr>\n",
       "    <tr>\n",
       "      <td>2011-11-28</td>\n",
       "      <td>80.00</td>\n",
       "      <td>89.50</td>\n",
       "      <td>91.28</td>\n",
       "      <td>79.52</td>\n",
       "      <td>1823407264</td>\n",
       "    </tr>\n",
       "    <tr>\n",
       "      <td>2011-12-05</td>\n",
       "      <td>89.56</td>\n",
       "      <td>82.40</td>\n",
       "      <td>90.52</td>\n",
       "      <td>81.65</td>\n",
       "      <td>1476596208</td>\n",
       "    </tr>\n",
       "    <tr>\n",
       "      <td>2011-12-12</td>\n",
       "      <td>83.51</td>\n",
       "      <td>80.63</td>\n",
       "      <td>84.80</td>\n",
       "      <td>78.03</td>\n",
       "      <td>1557906960</td>\n",
       "    </tr>\n",
       "    <tr>\n",
       "      <td>2011-12-19</td>\n",
       "      <td>80.10</td>\n",
       "      <td>80.00</td>\n",
       "      <td>84.00</td>\n",
       "      <td>77.42</td>\n",
       "      <td>1397987068</td>\n",
       "    </tr>\n",
       "  </tbody>\n",
       "</table>\n",
       "</div>"
      ],
      "text/plain": [
       "             Open  Close   High    Low      Volume\n",
       "Date                                              \n",
       "2011-11-21  79.00  78.27  79.37  73.75  1398299520\n",
       "2011-11-28  80.00  89.50  91.28  79.52  1823407264\n",
       "2011-12-05  89.56  82.40  90.52  81.65  1476596208\n",
       "2011-12-12  83.51  80.63  84.80  78.03  1557906960\n",
       "2011-12-19  80.10  80.00  84.00  77.42  1397987068"
      ]
     },
     "execution_count": 13,
     "metadata": {},
     "output_type": "execute_result"
    }
   ],
   "source": [
    "df = df.resample('W', loffset=offset).apply(aggregator)\n",
    "df.head()"
   ]
  },
  {
   "cell_type": "code",
   "execution_count": 14,
   "metadata": {},
   "outputs": [
    {
     "data": {
      "text/html": [
       "<div>\n",
       "<style scoped>\n",
       "    .dataframe tbody tr th:only-of-type {\n",
       "        vertical-align: middle;\n",
       "    }\n",
       "\n",
       "    .dataframe tbody tr th {\n",
       "        vertical-align: top;\n",
       "    }\n",
       "\n",
       "    .dataframe thead th {\n",
       "        text-align: right;\n",
       "    }\n",
       "</style>\n",
       "<table border=\"1\" class=\"dataframe\">\n",
       "  <thead>\n",
       "    <tr style=\"text-align: right;\">\n",
       "      <th></th>\n",
       "      <th>Open</th>\n",
       "      <th>Close</th>\n",
       "      <th>High</th>\n",
       "      <th>Low</th>\n",
       "      <th>Volume</th>\n",
       "    </tr>\n",
       "    <tr>\n",
       "      <th>Date</th>\n",
       "      <th></th>\n",
       "      <th></th>\n",
       "      <th></th>\n",
       "      <th></th>\n",
       "      <th></th>\n",
       "    </tr>\n",
       "  </thead>\n",
       "  <tbody>\n",
       "    <tr>\n",
       "      <td>2018-10-08</td>\n",
       "      <td>187.00</td>\n",
       "      <td>191.85</td>\n",
       "      <td>196.04</td>\n",
       "      <td>182.30</td>\n",
       "      <td>424419412</td>\n",
       "    </tr>\n",
       "    <tr>\n",
       "      <td>2018-10-15</td>\n",
       "      <td>192.50</td>\n",
       "      <td>183.80</td>\n",
       "      <td>198.80</td>\n",
       "      <td>183.80</td>\n",
       "      <td>343654982</td>\n",
       "    </tr>\n",
       "    <tr>\n",
       "      <td>2018-10-22</td>\n",
       "      <td>184.86</td>\n",
       "      <td>181.00</td>\n",
       "      <td>189.25</td>\n",
       "      <td>177.02</td>\n",
       "      <td>450553180</td>\n",
       "    </tr>\n",
       "    <tr>\n",
       "      <td>2018-10-29</td>\n",
       "      <td>180.60</td>\n",
       "      <td>192.60</td>\n",
       "      <td>192.98</td>\n",
       "      <td>178.64</td>\n",
       "      <td>336400754</td>\n",
       "    </tr>\n",
       "    <tr>\n",
       "      <td>2018-11-05</td>\n",
       "      <td>194.50</td>\n",
       "      <td>195.75</td>\n",
       "      <td>204.70</td>\n",
       "      <td>193.73</td>\n",
       "      <td>355374161</td>\n",
       "    </tr>\n",
       "  </tbody>\n",
       "</table>\n",
       "</div>"
      ],
      "text/plain": [
       "              Open   Close    High     Low     Volume\n",
       "Date                                                 \n",
       "2018-10-08  187.00  191.85  196.04  182.30  424419412\n",
       "2018-10-15  192.50  183.80  198.80  183.80  343654982\n",
       "2018-10-22  184.86  181.00  189.25  177.02  450553180\n",
       "2018-10-29  180.60  192.60  192.98  178.64  336400754\n",
       "2018-11-05  194.50  195.75  204.70  193.73  355374161"
      ]
     },
     "execution_count": 14,
     "metadata": {},
     "output_type": "execute_result"
    }
   ],
   "source": [
    "last_df = df.tail(52)\n",
    "last_df.head()"
   ]
  },
  {
   "cell_type": "code",
   "execution_count": 15,
   "metadata": {},
   "outputs": [
    {
     "data": {
      "text/plain": [
       "DatetimeIndex(['2018-10-08', '2018-10-15', '2018-10-22', '2018-10-29',\n",
       "               '2018-11-05', '2018-11-12', '2018-11-19', '2018-11-26',\n",
       "               '2018-12-03', '2018-12-10', '2018-12-17', '2018-12-24',\n",
       "               '2018-12-31', '2019-01-07', '2019-01-14', '2019-01-21',\n",
       "               '2019-01-28', '2019-02-04', '2019-02-11', '2019-02-18',\n",
       "               '2019-02-25', '2019-03-04', '2019-03-11', '2019-03-18',\n",
       "               '2019-03-25', '2019-04-01', '2019-04-08', '2019-04-15',\n",
       "               '2019-04-22', '2019-04-29', '2019-05-06', '2019-05-13',\n",
       "               '2019-05-20', '2019-05-27', '2019-06-03', '2019-06-10',\n",
       "               '2019-06-17', '2019-06-24', '2019-07-01', '2019-07-08',\n",
       "               '2019-07-15', '2019-07-22', '2019-07-29', '2019-08-05',\n",
       "               '2019-08-12', '2019-08-19', '2019-08-26', '2019-09-02',\n",
       "               '2019-09-09', '2019-09-16', '2019-09-23', '2019-09-30'],\n",
       "              dtype='datetime64[ns]', name='Date', freq='W-MON')"
      ]
     },
     "execution_count": 15,
     "metadata": {},
     "output_type": "execute_result"
    }
   ],
   "source": [
    "last_df.index"
   ]
  },
  {
   "cell_type": "code",
   "execution_count": 16,
   "metadata": {},
   "outputs": [
    {
     "data": {
      "text/html": [
       "<div>\n",
       "<style scoped>\n",
       "    .dataframe tbody tr th:only-of-type {\n",
       "        vertical-align: middle;\n",
       "    }\n",
       "\n",
       "    .dataframe tbody tr th {\n",
       "        vertical-align: top;\n",
       "    }\n",
       "\n",
       "    .dataframe thead th {\n",
       "        text-align: right;\n",
       "    }\n",
       "</style>\n",
       "<table border=\"1\" class=\"dataframe\">\n",
       "  <thead>\n",
       "    <tr style=\"text-align: right;\">\n",
       "      <th></th>\n",
       "      <th>Date</th>\n",
       "      <th>Open</th>\n",
       "      <th>Close</th>\n",
       "      <th>High</th>\n",
       "      <th>Low</th>\n",
       "      <th>Volume</th>\n",
       "    </tr>\n",
       "  </thead>\n",
       "  <tbody>\n",
       "    <tr>\n",
       "      <td>0</td>\n",
       "      <td>2018-10-08</td>\n",
       "      <td>187.00</td>\n",
       "      <td>191.85</td>\n",
       "      <td>196.04</td>\n",
       "      <td>182.30</td>\n",
       "      <td>424419412</td>\n",
       "    </tr>\n",
       "    <tr>\n",
       "      <td>1</td>\n",
       "      <td>2018-10-15</td>\n",
       "      <td>192.50</td>\n",
       "      <td>183.80</td>\n",
       "      <td>198.80</td>\n",
       "      <td>183.80</td>\n",
       "      <td>343654982</td>\n",
       "    </tr>\n",
       "    <tr>\n",
       "      <td>2</td>\n",
       "      <td>2018-10-22</td>\n",
       "      <td>184.86</td>\n",
       "      <td>181.00</td>\n",
       "      <td>189.25</td>\n",
       "      <td>177.02</td>\n",
       "      <td>450553180</td>\n",
       "    </tr>\n",
       "    <tr>\n",
       "      <td>3</td>\n",
       "      <td>2018-10-29</td>\n",
       "      <td>180.60</td>\n",
       "      <td>192.60</td>\n",
       "      <td>192.98</td>\n",
       "      <td>178.64</td>\n",
       "      <td>336400754</td>\n",
       "    </tr>\n",
       "    <tr>\n",
       "      <td>4</td>\n",
       "      <td>2018-11-05</td>\n",
       "      <td>194.50</td>\n",
       "      <td>195.75</td>\n",
       "      <td>204.70</td>\n",
       "      <td>193.73</td>\n",
       "      <td>355374161</td>\n",
       "    </tr>\n",
       "  </tbody>\n",
       "</table>\n",
       "</div>"
      ],
      "text/plain": [
       "        Date    Open   Close    High     Low     Volume\n",
       "0 2018-10-08  187.00  191.85  196.04  182.30  424419412\n",
       "1 2018-10-15  192.50  183.80  198.80  183.80  343654982\n",
       "2 2018-10-22  184.86  181.00  189.25  177.02  450553180\n",
       "3 2018-10-29  180.60  192.60  192.98  178.64  336400754\n",
       "4 2018-11-05  194.50  195.75  204.70  193.73  355374161"
      ]
     },
     "execution_count": 16,
     "metadata": {},
     "output_type": "execute_result"
    }
   ],
   "source": [
    "last_df.reset_index(level=0, inplace=True)\n",
    "last_df.head()"
   ]
  },
  {
   "cell_type": "code",
   "execution_count": 17,
   "metadata": {},
   "outputs": [],
   "source": [
    "trace = go.Candlestick(x=last_df.index,\n",
    "                       open=last_df.Open,\n",
    "                       high=last_df.High,\n",
    "                       low=last_df.Low,\n",
    "                       close=last_df.Close)\n",
    "layout = go.Layout(xaxis = dict(rangeslider = dict(visible = False)))"
   ]
  },
  {
   "cell_type": "code",
   "execution_count": 18,
   "metadata": {},
   "outputs": [
    {
     "ename": "NameError",
     "evalue": "name 'py' is not defined",
     "output_type": "error",
     "traceback": [
      "\u001b[0;31m---------------------------------------------------------------------------\u001b[0m",
      "\u001b[0;31mNameError\u001b[0m                                 Traceback (most recent call last)",
      "\u001b[0;32m<ipython-input-18-f53c86dcd4f4>\u001b[0m in \u001b[0;36m<module>\u001b[0;34m\u001b[0m\n\u001b[1;32m      1\u001b[0m \u001b[0mfig\u001b[0m \u001b[0;34m=\u001b[0m \u001b[0mgo\u001b[0m\u001b[0;34m.\u001b[0m\u001b[0mFigure\u001b[0m\u001b[0;34m(\u001b[0m\u001b[0mdata\u001b[0m\u001b[0;34m=\u001b[0m\u001b[0;34m[\u001b[0m\u001b[0mtrace\u001b[0m\u001b[0;34m]\u001b[0m\u001b[0;34m,\u001b[0m \u001b[0mlayout\u001b[0m\u001b[0;34m=\u001b[0m\u001b[0mlayout\u001b[0m\u001b[0;34m)\u001b[0m\u001b[0;34m\u001b[0m\u001b[0;34m\u001b[0m\u001b[0m\n\u001b[0;32m----> 2\u001b[0;31m \u001b[0mpy\u001b[0m\u001b[0;34m.\u001b[0m\u001b[0miplot\u001b[0m\u001b[0;34m(\u001b[0m\u001b[0mfig\u001b[0m\u001b[0;34m)\u001b[0m\u001b[0;34m\u001b[0m\u001b[0;34m\u001b[0m\u001b[0m\n\u001b[0m",
      "\u001b[0;31mNameError\u001b[0m: name 'py' is not defined"
     ]
    }
   ],
   "source": [
    "fig = go.Figure(data=[trace], layout=layout)\n",
    "py.iplot(fig)"
   ]
  },
  {
   "cell_type": "code",
   "execution_count": null,
   "metadata": {},
   "outputs": [],
   "source": []
  }
 ],
 "metadata": {
  "kernelspec": {
   "display_name": "Python 3",
   "language": "python",
   "name": "python3"
  },
  "language_info": {
   "codemirror_mode": {
    "name": "ipython",
    "version": 3
   },
   "file_extension": ".py",
   "mimetype": "text/x-python",
   "name": "python",
   "nbconvert_exporter": "python",
   "pygments_lexer": "ipython3",
   "version": "3.7.4"
  }
 },
 "nbformat": 4,
 "nbformat_minor": 2
}
