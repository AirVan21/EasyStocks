{
 "cells": [
  {
   "cell_type": "code",
   "execution_count": 11,
   "metadata": {},
   "outputs": [],
   "source": [
    "import pandas as pd\n",
    "import plotly.plotly as py\n",
    "import plotly.graph_objs as go\n",
    "import plotly.io as pio\n",
    "import os"
   ]
  },
  {
   "cell_type": "code",
   "execution_count": 2,
   "metadata": {},
   "outputs": [
    {
     "data": {
      "text/html": [
       "<div>\n",
       "<style scoped>\n",
       "    .dataframe tbody tr th:only-of-type {\n",
       "        vertical-align: middle;\n",
       "    }\n",
       "\n",
       "    .dataframe tbody tr th {\n",
       "        vertical-align: top;\n",
       "    }\n",
       "\n",
       "    .dataframe thead th {\n",
       "        text-align: right;\n",
       "    }\n",
       "</style>\n",
       "<table border=\"1\" class=\"dataframe\">\n",
       "  <thead>\n",
       "    <tr style=\"text-align: right;\">\n",
       "      <th></th>\n",
       "      <th>Date</th>\n",
       "      <th>Open</th>\n",
       "      <th>Close</th>\n",
       "      <th>High</th>\n",
       "      <th>Low</th>\n",
       "      <th>Volume</th>\n",
       "    </tr>\n",
       "  </thead>\n",
       "  <tbody>\n",
       "    <tr>\n",
       "      <th>0</th>\n",
       "      <td>2019-07-12</td>\n",
       "      <td>241.29</td>\n",
       "      <td>237.02</td>\n",
       "      <td>241.50</td>\n",
       "      <td>236.37</td>\n",
       "      <td>47691520</td>\n",
       "    </tr>\n",
       "    <tr>\n",
       "      <th>1</th>\n",
       "      <td>2019-07-11</td>\n",
       "      <td>244.50</td>\n",
       "      <td>241.30</td>\n",
       "      <td>244.97</td>\n",
       "      <td>240.17</td>\n",
       "      <td>33165890</td>\n",
       "    </tr>\n",
       "    <tr>\n",
       "      <th>2</th>\n",
       "      <td>2019-07-10</td>\n",
       "      <td>243.10</td>\n",
       "      <td>243.76</td>\n",
       "      <td>245.50</td>\n",
       "      <td>242.01</td>\n",
       "      <td>41599960</td>\n",
       "    </tr>\n",
       "    <tr>\n",
       "      <th>3</th>\n",
       "      <td>2019-07-09</td>\n",
       "      <td>243.00</td>\n",
       "      <td>243.09</td>\n",
       "      <td>243.70</td>\n",
       "      <td>241.87</td>\n",
       "      <td>22987880</td>\n",
       "    </tr>\n",
       "    <tr>\n",
       "      <th>4</th>\n",
       "      <td>2019-07-08</td>\n",
       "      <td>242.13</td>\n",
       "      <td>243.30</td>\n",
       "      <td>243.30</td>\n",
       "      <td>240.68</td>\n",
       "      <td>28620550</td>\n",
       "    </tr>\n",
       "  </tbody>\n",
       "</table>\n",
       "</div>"
      ],
      "text/plain": [
       "         Date    Open   Close    High     Low    Volume\n",
       "0  2019-07-12  241.29  237.02  241.50  236.37  47691520\n",
       "1  2019-07-11  244.50  241.30  244.97  240.17  33165890\n",
       "2  2019-07-10  243.10  243.76  245.50  242.01  41599960\n",
       "3  2019-07-09  243.00  243.09  243.70  241.87  22987880\n",
       "4  2019-07-08  242.13  243.30  243.30  240.68  28620550"
      ]
     },
     "execution_count": 2,
     "metadata": {},
     "output_type": "execute_result"
    }
   ],
   "source": [
    "df = pd.read_csv('../static/data/SBER.ME.csv')\n",
    "df.head()"
   ]
  },
  {
   "cell_type": "code",
   "execution_count": 3,
   "metadata": {},
   "outputs": [
    {
     "data": {
      "text/plain": [
       "Date       object\n",
       "Open      float64\n",
       "Close     float64\n",
       "High      float64\n",
       "Low       float64\n",
       "Volume      int64\n",
       "dtype: object"
      ]
     },
     "execution_count": 3,
     "metadata": {},
     "output_type": "execute_result"
    }
   ],
   "source": [
    "df.dtypes"
   ]
  },
  {
   "cell_type": "code",
   "execution_count": 4,
   "metadata": {},
   "outputs": [
    {
     "data": {
      "text/html": [
       "<div>\n",
       "<style scoped>\n",
       "    .dataframe tbody tr th:only-of-type {\n",
       "        vertical-align: middle;\n",
       "    }\n",
       "\n",
       "    .dataframe tbody tr th {\n",
       "        vertical-align: top;\n",
       "    }\n",
       "\n",
       "    .dataframe thead th {\n",
       "        text-align: right;\n",
       "    }\n",
       "</style>\n",
       "<table border=\"1\" class=\"dataframe\">\n",
       "  <thead>\n",
       "    <tr style=\"text-align: right;\">\n",
       "      <th></th>\n",
       "      <th>Open</th>\n",
       "      <th>Close</th>\n",
       "      <th>High</th>\n",
       "      <th>Low</th>\n",
       "      <th>Volume</th>\n",
       "    </tr>\n",
       "    <tr>\n",
       "      <th>Date</th>\n",
       "      <th></th>\n",
       "      <th></th>\n",
       "      <th></th>\n",
       "      <th></th>\n",
       "      <th></th>\n",
       "    </tr>\n",
       "  </thead>\n",
       "  <tbody>\n",
       "    <tr>\n",
       "      <th>2019-07-12</th>\n",
       "      <td>241.29</td>\n",
       "      <td>237.02</td>\n",
       "      <td>241.50</td>\n",
       "      <td>236.37</td>\n",
       "      <td>47691520</td>\n",
       "    </tr>\n",
       "    <tr>\n",
       "      <th>2019-07-11</th>\n",
       "      <td>244.50</td>\n",
       "      <td>241.30</td>\n",
       "      <td>244.97</td>\n",
       "      <td>240.17</td>\n",
       "      <td>33165890</td>\n",
       "    </tr>\n",
       "    <tr>\n",
       "      <th>2019-07-10</th>\n",
       "      <td>243.10</td>\n",
       "      <td>243.76</td>\n",
       "      <td>245.50</td>\n",
       "      <td>242.01</td>\n",
       "      <td>41599960</td>\n",
       "    </tr>\n",
       "    <tr>\n",
       "      <th>2019-07-09</th>\n",
       "      <td>243.00</td>\n",
       "      <td>243.09</td>\n",
       "      <td>243.70</td>\n",
       "      <td>241.87</td>\n",
       "      <td>22987880</td>\n",
       "    </tr>\n",
       "    <tr>\n",
       "      <th>2019-07-08</th>\n",
       "      <td>242.13</td>\n",
       "      <td>243.30</td>\n",
       "      <td>243.30</td>\n",
       "      <td>240.68</td>\n",
       "      <td>28620550</td>\n",
       "    </tr>\n",
       "  </tbody>\n",
       "</table>\n",
       "</div>"
      ],
      "text/plain": [
       "              Open   Close    High     Low    Volume\n",
       "Date                                                \n",
       "2019-07-12  241.29  237.02  241.50  236.37  47691520\n",
       "2019-07-11  244.50  241.30  244.97  240.17  33165890\n",
       "2019-07-10  243.10  243.76  245.50  242.01  41599960\n",
       "2019-07-09  243.00  243.09  243.70  241.87  22987880\n",
       "2019-07-08  242.13  243.30  243.30  240.68  28620550"
      ]
     },
     "execution_count": 4,
     "metadata": {},
     "output_type": "execute_result"
    }
   ],
   "source": [
    "df['Date'] = pd.to_datetime(df['Date'], errors='ignore')\n",
    "df.set_index('Date', inplace=True)\n",
    "df.head()"
   ]
  },
  {
   "cell_type": "code",
   "execution_count": 5,
   "metadata": {},
   "outputs": [
    {
     "data": {
      "text/plain": [
       "Open      float64\n",
       "Close     float64\n",
       "High      float64\n",
       "Low       float64\n",
       "Volume      int64\n",
       "dtype: object"
      ]
     },
     "execution_count": 5,
     "metadata": {},
     "output_type": "execute_result"
    }
   ],
   "source": [
    "df.dtypes"
   ]
  },
  {
   "cell_type": "code",
   "execution_count": 6,
   "metadata": {},
   "outputs": [],
   "source": [
    "aggregator = {'Open'  : 'first',\n",
    "              'Close' : 'last',\n",
    "              'High'  : 'max',\n",
    "              'Low'   : 'min',\n",
    "              'Volume': 'sum'}"
   ]
  },
  {
   "cell_type": "code",
   "execution_count": 7,
   "metadata": {},
   "outputs": [],
   "source": [
    "offset = pd.offsets.timedelta(days=-6)"
   ]
  },
  {
   "cell_type": "code",
   "execution_count": 8,
   "metadata": {},
   "outputs": [
    {
     "data": {
      "text/html": [
       "<div>\n",
       "<style scoped>\n",
       "    .dataframe tbody tr th:only-of-type {\n",
       "        vertical-align: middle;\n",
       "    }\n",
       "\n",
       "    .dataframe tbody tr th {\n",
       "        vertical-align: top;\n",
       "    }\n",
       "\n",
       "    .dataframe thead th {\n",
       "        text-align: right;\n",
       "    }\n",
       "</style>\n",
       "<table border=\"1\" class=\"dataframe\">\n",
       "  <thead>\n",
       "    <tr style=\"text-align: right;\">\n",
       "      <th></th>\n",
       "      <th>Open</th>\n",
       "      <th>Close</th>\n",
       "      <th>High</th>\n",
       "      <th>Low</th>\n",
       "      <th>Volume</th>\n",
       "    </tr>\n",
       "    <tr>\n",
       "      <th>Date</th>\n",
       "      <th></th>\n",
       "      <th></th>\n",
       "      <th></th>\n",
       "      <th></th>\n",
       "      <th></th>\n",
       "    </tr>\n",
       "  </thead>\n",
       "  <tbody>\n",
       "    <tr>\n",
       "      <th>2011-11-21</th>\n",
       "      <td>79.00</td>\n",
       "      <td>78.27</td>\n",
       "      <td>79.37</td>\n",
       "      <td>73.75</td>\n",
       "      <td>1398299520</td>\n",
       "    </tr>\n",
       "    <tr>\n",
       "      <th>2011-11-28</th>\n",
       "      <td>80.00</td>\n",
       "      <td>89.50</td>\n",
       "      <td>91.28</td>\n",
       "      <td>79.52</td>\n",
       "      <td>1823407264</td>\n",
       "    </tr>\n",
       "    <tr>\n",
       "      <th>2011-12-05</th>\n",
       "      <td>89.56</td>\n",
       "      <td>82.40</td>\n",
       "      <td>90.52</td>\n",
       "      <td>81.65</td>\n",
       "      <td>1476596208</td>\n",
       "    </tr>\n",
       "    <tr>\n",
       "      <th>2011-12-12</th>\n",
       "      <td>83.51</td>\n",
       "      <td>80.63</td>\n",
       "      <td>84.80</td>\n",
       "      <td>78.03</td>\n",
       "      <td>1557906960</td>\n",
       "    </tr>\n",
       "    <tr>\n",
       "      <th>2011-12-19</th>\n",
       "      <td>80.10</td>\n",
       "      <td>80.00</td>\n",
       "      <td>84.00</td>\n",
       "      <td>77.42</td>\n",
       "      <td>1397987068</td>\n",
       "    </tr>\n",
       "  </tbody>\n",
       "</table>\n",
       "</div>"
      ],
      "text/plain": [
       "             Open  Close   High    Low      Volume\n",
       "Date                                              \n",
       "2011-11-21  79.00  78.27  79.37  73.75  1398299520\n",
       "2011-11-28  80.00  89.50  91.28  79.52  1823407264\n",
       "2011-12-05  89.56  82.40  90.52  81.65  1476596208\n",
       "2011-12-12  83.51  80.63  84.80  78.03  1557906960\n",
       "2011-12-19  80.10  80.00  84.00  77.42  1397987068"
      ]
     },
     "execution_count": 8,
     "metadata": {},
     "output_type": "execute_result"
    }
   ],
   "source": [
    "df = df.resample('W', loffset=offset).apply(aggregator)\n",
    "df.head()"
   ]
  },
  {
   "cell_type": "code",
   "execution_count": 12,
   "metadata": {},
   "outputs": [
    {
     "data": {
      "text/html": [
       "<div>\n",
       "<style scoped>\n",
       "    .dataframe tbody tr th:only-of-type {\n",
       "        vertical-align: middle;\n",
       "    }\n",
       "\n",
       "    .dataframe tbody tr th {\n",
       "        vertical-align: top;\n",
       "    }\n",
       "\n",
       "    .dataframe thead th {\n",
       "        text-align: right;\n",
       "    }\n",
       "</style>\n",
       "<table border=\"1\" class=\"dataframe\">\n",
       "  <thead>\n",
       "    <tr style=\"text-align: right;\">\n",
       "      <th></th>\n",
       "      <th>Open</th>\n",
       "      <th>Close</th>\n",
       "      <th>High</th>\n",
       "      <th>Low</th>\n",
       "      <th>Volume</th>\n",
       "    </tr>\n",
       "    <tr>\n",
       "      <th>Date</th>\n",
       "      <th></th>\n",
       "      <th></th>\n",
       "      <th></th>\n",
       "      <th></th>\n",
       "      <th></th>\n",
       "    </tr>\n",
       "  </thead>\n",
       "  <tbody>\n",
       "    <tr>\n",
       "      <th>2018-07-16</th>\n",
       "      <td>230.10</td>\n",
       "      <td>204.34</td>\n",
       "      <td>231.00</td>\n",
       "      <td>201.10</td>\n",
       "      <td>379399647</td>\n",
       "    </tr>\n",
       "    <tr>\n",
       "      <th>2018-07-23</th>\n",
       "      <td>205.40</td>\n",
       "      <td>208.90</td>\n",
       "      <td>216.51</td>\n",
       "      <td>205.25</td>\n",
       "      <td>304669824</td>\n",
       "    </tr>\n",
       "    <tr>\n",
       "      <th>2018-07-30</th>\n",
       "      <td>207.77</td>\n",
       "      <td>202.21</td>\n",
       "      <td>215.20</td>\n",
       "      <td>202.00</td>\n",
       "      <td>263581348</td>\n",
       "    </tr>\n",
       "    <tr>\n",
       "      <th>2018-08-06</th>\n",
       "      <td>201.80</td>\n",
       "      <td>186.15</td>\n",
       "      <td>207.95</td>\n",
       "      <td>182.06</td>\n",
       "      <td>529288582</td>\n",
       "    </tr>\n",
       "    <tr>\n",
       "      <th>2018-08-13</th>\n",
       "      <td>182.05</td>\n",
       "      <td>189.55</td>\n",
       "      <td>195.98</td>\n",
       "      <td>180.15</td>\n",
       "      <td>367106703</td>\n",
       "    </tr>\n",
       "  </tbody>\n",
       "</table>\n",
       "</div>"
      ],
      "text/plain": [
       "              Open   Close    High     Low     Volume\n",
       "Date                                                 \n",
       "2018-07-16  230.10  204.34  231.00  201.10  379399647\n",
       "2018-07-23  205.40  208.90  216.51  205.25  304669824\n",
       "2018-07-30  207.77  202.21  215.20  202.00  263581348\n",
       "2018-08-06  201.80  186.15  207.95  182.06  529288582\n",
       "2018-08-13  182.05  189.55  195.98  180.15  367106703"
      ]
     },
     "execution_count": 12,
     "metadata": {},
     "output_type": "execute_result"
    }
   ],
   "source": [
    "last_df = df.tail(52)\n",
    "last_df.head()"
   ]
  },
  {
   "cell_type": "code",
   "execution_count": 15,
   "metadata": {},
   "outputs": [
    {
     "data": {
      "text/plain": [
       "DatetimeIndex(['2018-07-16', '2018-07-23', '2018-07-30', '2018-08-06',\n",
       "               '2018-08-13', '2018-08-20', '2018-08-27', '2018-09-03',\n",
       "               '2018-09-10', '2018-09-17', '2018-09-24', '2018-10-01',\n",
       "               '2018-10-08', '2018-10-15', '2018-10-22', '2018-10-29',\n",
       "               '2018-11-05', '2018-11-12', '2018-11-19', '2018-11-26',\n",
       "               '2018-12-03', '2018-12-10', '2018-12-17', '2018-12-24',\n",
       "               '2018-12-31', '2019-01-07', '2019-01-14', '2019-01-21',\n",
       "               '2019-01-28', '2019-02-04', '2019-02-11', '2019-02-18',\n",
       "               '2019-02-25', '2019-03-04', '2019-03-11', '2019-03-18',\n",
       "               '2019-03-25', '2019-04-01', '2019-04-08', '2019-04-15',\n",
       "               '2019-04-22', '2019-04-29', '2019-05-06', '2019-05-13',\n",
       "               '2019-05-20', '2019-05-27', '2019-06-03', '2019-06-10',\n",
       "               '2019-06-17', '2019-06-24', '2019-07-01', '2019-07-08'],\n",
       "              dtype='datetime64[ns]', name='Date', freq='W-MON')"
      ]
     },
     "execution_count": 15,
     "metadata": {},
     "output_type": "execute_result"
    }
   ],
   "source": [
    "last_df.index"
   ]
  },
  {
   "cell_type": "code",
   "execution_count": 16,
   "metadata": {},
   "outputs": [],
   "source": [
    "trace = go.Candlestick(x=last_df.index,\n",
    "                       open=last_df.Open,\n",
    "                       high=last_df.High,\n",
    "                       low=last_df.Low,\n",
    "                       close=last_df.Close)\n",
    "layout = go.Layout(xaxis = dict(rangeslider = dict(visible = False)))"
   ]
  },
  {
   "cell_type": "code",
   "execution_count": 17,
   "metadata": {},
   "outputs": [
    {
     "name": "stderr",
     "output_type": "stream",
     "text": [
      "/Users/ivan.abramov/.local/share/virtualenvs/EasyStocks-Y6gAEsoh/lib/python3.7/site-packages/IPython/core/display.py:689: UserWarning:\n",
      "\n",
      "Consider using IPython.display.IFrame instead\n",
      "\n"
     ]
    },
    {
     "data": {
      "text/html": [
       "<iframe id=\"igraph\" scrolling=\"no\" style=\"border:none;\" seamless=\"seamless\" src=\"https://plot.ly/~airvan21/13.embed\" height=\"525px\" width=\"100%\"></iframe>"
      ],
      "text/plain": [
       "<plotly.tools.PlotlyDisplay object>"
      ]
     },
     "execution_count": 17,
     "metadata": {},
     "output_type": "execute_result"
    }
   ],
   "source": [
    "fig = go.Figure(data=[trace], layout=layout)\n",
    "py.iplot(fig)"
   ]
  },
  {
   "cell_type": "code",
   "execution_count": null,
   "metadata": {},
   "outputs": [],
   "source": []
  }
 ],
 "metadata": {
  "kernelspec": {
   "display_name": "Python 3",
   "language": "python",
   "name": "python3"
  },
  "language_info": {
   "codemirror_mode": {
    "name": "ipython",
    "version": 3
   },
   "file_extension": ".py",
   "mimetype": "text/x-python",
   "name": "python",
   "nbconvert_exporter": "python",
   "pygments_lexer": "ipython3",
   "version": "3.7.0"
  }
 },
 "nbformat": 4,
 "nbformat_minor": 2
}
