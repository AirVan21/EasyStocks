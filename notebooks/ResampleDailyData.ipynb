{
 "cells": [
  {
   "cell_type": "code",
   "execution_count": 26,
   "metadata": {},
   "outputs": [],
   "source": [
    "import pandas as pd"
   ]
  },
  {
   "cell_type": "code",
   "execution_count": 27,
   "metadata": {},
   "outputs": [
    {
     "data": {
      "text/html": [
       "<div>\n",
       "<style scoped>\n",
       "    .dataframe tbody tr th:only-of-type {\n",
       "        vertical-align: middle;\n",
       "    }\n",
       "\n",
       "    .dataframe tbody tr th {\n",
       "        vertical-align: top;\n",
       "    }\n",
       "\n",
       "    .dataframe thead th {\n",
       "        text-align: right;\n",
       "    }\n",
       "</style>\n",
       "<table border=\"1\" class=\"dataframe\">\n",
       "  <thead>\n",
       "    <tr style=\"text-align: right;\">\n",
       "      <th></th>\n",
       "      <th>Date</th>\n",
       "      <th>Open</th>\n",
       "      <th>Close</th>\n",
       "      <th>High</th>\n",
       "      <th>Low</th>\n",
       "      <th>Volume</th>\n",
       "    </tr>\n",
       "  </thead>\n",
       "  <tbody>\n",
       "    <tr>\n",
       "      <th>0</th>\n",
       "      <td>2019-07-09</td>\n",
       "      <td>243.00</td>\n",
       "      <td>242.74</td>\n",
       "      <td>243.70</td>\n",
       "      <td>241.87</td>\n",
       "      <td>26380230</td>\n",
       "    </tr>\n",
       "    <tr>\n",
       "      <th>1</th>\n",
       "      <td>2019-07-08</td>\n",
       "      <td>242.13</td>\n",
       "      <td>243.30</td>\n",
       "      <td>243.30</td>\n",
       "      <td>240.68</td>\n",
       "      <td>28620550</td>\n",
       "    </tr>\n",
       "    <tr>\n",
       "      <th>2</th>\n",
       "      <td>2019-07-05</td>\n",
       "      <td>242.91</td>\n",
       "      <td>242.83</td>\n",
       "      <td>243.50</td>\n",
       "      <td>241.61</td>\n",
       "      <td>27870840</td>\n",
       "    </tr>\n",
       "    <tr>\n",
       "      <th>3</th>\n",
       "      <td>2019-07-03</td>\n",
       "      <td>241.00</td>\n",
       "      <td>241.51</td>\n",
       "      <td>243.70</td>\n",
       "      <td>240.17</td>\n",
       "      <td>32731470</td>\n",
       "    </tr>\n",
       "    <tr>\n",
       "      <th>4</th>\n",
       "      <td>2019-07-02</td>\n",
       "      <td>242.51</td>\n",
       "      <td>241.20</td>\n",
       "      <td>242.74</td>\n",
       "      <td>239.70</td>\n",
       "      <td>28583620</td>\n",
       "    </tr>\n",
       "  </tbody>\n",
       "</table>\n",
       "</div>"
      ],
      "text/plain": [
       "         Date    Open   Close    High     Low    Volume\n",
       "0  2019-07-09  243.00  242.74  243.70  241.87  26380230\n",
       "1  2019-07-08  242.13  243.30  243.30  240.68  28620550\n",
       "2  2019-07-05  242.91  242.83  243.50  241.61  27870840\n",
       "3  2019-07-03  241.00  241.51  243.70  240.17  32731470\n",
       "4  2019-07-02  242.51  241.20  242.74  239.70  28583620"
      ]
     },
     "execution_count": 27,
     "metadata": {},
     "output_type": "execute_result"
    }
   ],
   "source": [
    "df = pd.read_csv('../static/data/SBER.ME.csv')\n",
    "df.head()"
   ]
  },
  {
   "cell_type": "code",
   "execution_count": 28,
   "metadata": {},
   "outputs": [
    {
     "data": {
      "text/plain": [
       "Date       object\n",
       "Open      float64\n",
       "Close     float64\n",
       "High      float64\n",
       "Low       float64\n",
       "Volume      int64\n",
       "dtype: object"
      ]
     },
     "execution_count": 28,
     "metadata": {},
     "output_type": "execute_result"
    }
   ],
   "source": [
    "df.dtypes"
   ]
  },
  {
   "cell_type": "code",
   "execution_count": 29,
   "metadata": {},
   "outputs": [
    {
     "data": {
      "text/html": [
       "<div>\n",
       "<style scoped>\n",
       "    .dataframe tbody tr th:only-of-type {\n",
       "        vertical-align: middle;\n",
       "    }\n",
       "\n",
       "    .dataframe tbody tr th {\n",
       "        vertical-align: top;\n",
       "    }\n",
       "\n",
       "    .dataframe thead th {\n",
       "        text-align: right;\n",
       "    }\n",
       "</style>\n",
       "<table border=\"1\" class=\"dataframe\">\n",
       "  <thead>\n",
       "    <tr style=\"text-align: right;\">\n",
       "      <th></th>\n",
       "      <th>Open</th>\n",
       "      <th>Close</th>\n",
       "      <th>High</th>\n",
       "      <th>Low</th>\n",
       "      <th>Volume</th>\n",
       "    </tr>\n",
       "    <tr>\n",
       "      <th>Date</th>\n",
       "      <th></th>\n",
       "      <th></th>\n",
       "      <th></th>\n",
       "      <th></th>\n",
       "      <th></th>\n",
       "    </tr>\n",
       "  </thead>\n",
       "  <tbody>\n",
       "    <tr>\n",
       "      <th>2019-07-09</th>\n",
       "      <td>243.00</td>\n",
       "      <td>242.74</td>\n",
       "      <td>243.70</td>\n",
       "      <td>241.87</td>\n",
       "      <td>26380230</td>\n",
       "    </tr>\n",
       "    <tr>\n",
       "      <th>2019-07-08</th>\n",
       "      <td>242.13</td>\n",
       "      <td>243.30</td>\n",
       "      <td>243.30</td>\n",
       "      <td>240.68</td>\n",
       "      <td>28620550</td>\n",
       "    </tr>\n",
       "    <tr>\n",
       "      <th>2019-07-05</th>\n",
       "      <td>242.91</td>\n",
       "      <td>242.83</td>\n",
       "      <td>243.50</td>\n",
       "      <td>241.61</td>\n",
       "      <td>27870840</td>\n",
       "    </tr>\n",
       "    <tr>\n",
       "      <th>2019-07-03</th>\n",
       "      <td>241.00</td>\n",
       "      <td>241.51</td>\n",
       "      <td>243.70</td>\n",
       "      <td>240.17</td>\n",
       "      <td>32731470</td>\n",
       "    </tr>\n",
       "    <tr>\n",
       "      <th>2019-07-02</th>\n",
       "      <td>242.51</td>\n",
       "      <td>241.20</td>\n",
       "      <td>242.74</td>\n",
       "      <td>239.70</td>\n",
       "      <td>28583620</td>\n",
       "    </tr>\n",
       "  </tbody>\n",
       "</table>\n",
       "</div>"
      ],
      "text/plain": [
       "              Open   Close    High     Low    Volume\n",
       "Date                                                \n",
       "2019-07-09  243.00  242.74  243.70  241.87  26380230\n",
       "2019-07-08  242.13  243.30  243.30  240.68  28620550\n",
       "2019-07-05  242.91  242.83  243.50  241.61  27870840\n",
       "2019-07-03  241.00  241.51  243.70  240.17  32731470\n",
       "2019-07-02  242.51  241.20  242.74  239.70  28583620"
      ]
     },
     "execution_count": 29,
     "metadata": {},
     "output_type": "execute_result"
    }
   ],
   "source": [
    "df['Date'] = pd.to_datetime(df['Date'], errors='ignore')\n",
    "df.set_index('Date', inplace=True)\n",
    "df.head()"
   ]
  },
  {
   "cell_type": "code",
   "execution_count": 30,
   "metadata": {},
   "outputs": [
    {
     "data": {
      "text/plain": [
       "Open      float64\n",
       "Close     float64\n",
       "High      float64\n",
       "Low       float64\n",
       "Volume      int64\n",
       "dtype: object"
      ]
     },
     "execution_count": 30,
     "metadata": {},
     "output_type": "execute_result"
    }
   ],
   "source": [
    "df.dtypes"
   ]
  },
  {
   "cell_type": "code",
   "execution_count": 31,
   "metadata": {},
   "outputs": [],
   "source": [
    "aggregator = {'Open'  : 'first',\n",
    "              'Close' : 'last',\n",
    "              'High'  : 'max',\n",
    "              'Low'   : 'min',\n",
    "              'Volume': 'sum'}"
   ]
  },
  {
   "cell_type": "code",
   "execution_count": 32,
   "metadata": {},
   "outputs": [],
   "source": [
    "offset = pd.offsets.timedelta(days=-6)"
   ]
  },
  {
   "cell_type": "code",
   "execution_count": 35,
   "metadata": {},
   "outputs": [
    {
     "data": {
      "text/html": [
       "<div>\n",
       "<style scoped>\n",
       "    .dataframe tbody tr th:only-of-type {\n",
       "        vertical-align: middle;\n",
       "    }\n",
       "\n",
       "    .dataframe tbody tr th {\n",
       "        vertical-align: top;\n",
       "    }\n",
       "\n",
       "    .dataframe thead th {\n",
       "        text-align: right;\n",
       "    }\n",
       "</style>\n",
       "<table border=\"1\" class=\"dataframe\">\n",
       "  <thead>\n",
       "    <tr style=\"text-align: right;\">\n",
       "      <th></th>\n",
       "      <th>Open</th>\n",
       "      <th>Close</th>\n",
       "      <th>High</th>\n",
       "      <th>Low</th>\n",
       "      <th>Volume</th>\n",
       "    </tr>\n",
       "    <tr>\n",
       "      <th>Date</th>\n",
       "      <th></th>\n",
       "      <th></th>\n",
       "      <th></th>\n",
       "      <th></th>\n",
       "      <th></th>\n",
       "    </tr>\n",
       "  </thead>\n",
       "  <tbody>\n",
       "    <tr>\n",
       "      <th>2011-11-21</th>\n",
       "      <td>79.00</td>\n",
       "      <td>78.27</td>\n",
       "      <td>79.37</td>\n",
       "      <td>73.75</td>\n",
       "      <td>1398299520</td>\n",
       "    </tr>\n",
       "    <tr>\n",
       "      <th>2011-11-28</th>\n",
       "      <td>80.00</td>\n",
       "      <td>89.50</td>\n",
       "      <td>91.28</td>\n",
       "      <td>79.52</td>\n",
       "      <td>1823407264</td>\n",
       "    </tr>\n",
       "    <tr>\n",
       "      <th>2011-12-05</th>\n",
       "      <td>89.56</td>\n",
       "      <td>82.40</td>\n",
       "      <td>90.52</td>\n",
       "      <td>81.65</td>\n",
       "      <td>1476596208</td>\n",
       "    </tr>\n",
       "    <tr>\n",
       "      <th>2011-12-12</th>\n",
       "      <td>83.51</td>\n",
       "      <td>80.63</td>\n",
       "      <td>84.80</td>\n",
       "      <td>78.03</td>\n",
       "      <td>1557906960</td>\n",
       "    </tr>\n",
       "    <tr>\n",
       "      <th>2011-12-19</th>\n",
       "      <td>80.10</td>\n",
       "      <td>80.00</td>\n",
       "      <td>84.00</td>\n",
       "      <td>77.42</td>\n",
       "      <td>1397987068</td>\n",
       "    </tr>\n",
       "  </tbody>\n",
       "</table>\n",
       "</div>"
      ],
      "text/plain": [
       "             Open  Close   High    Low      Volume\n",
       "Date                                              \n",
       "2011-11-21  79.00  78.27  79.37  73.75  1398299520\n",
       "2011-11-28  80.00  89.50  91.28  79.52  1823407264\n",
       "2011-12-05  89.56  82.40  90.52  81.65  1476596208\n",
       "2011-12-12  83.51  80.63  84.80  78.03  1557906960\n",
       "2011-12-19  80.10  80.00  84.00  77.42  1397987068"
      ]
     },
     "execution_count": 35,
     "metadata": {},
     "output_type": "execute_result"
    }
   ],
   "source": [
    "df = df.resample('W', loffset=offset).apply(aggregator)\n",
    "df.head()"
   ]
  }
 ],
 "metadata": {
  "kernelspec": {
   "display_name": "Python 3",
   "language": "python",
   "name": "python3"
  },
  "language_info": {
   "codemirror_mode": {
    "name": "ipython",
    "version": 3
   },
   "file_extension": ".py",
   "mimetype": "text/x-python",
   "name": "python",
   "nbconvert_exporter": "python",
   "pygments_lexer": "ipython3",
   "version": "3.7.0"
  }
 },
 "nbformat": 4,
 "nbformat_minor": 2
}
