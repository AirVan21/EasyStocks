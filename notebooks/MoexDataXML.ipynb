{
 "cells": [
  {
   "cell_type": "code",
   "execution_count": 33,
   "id": "sixth-circus",
   "metadata": {},
   "outputs": [],
   "source": [
    "import xml.etree.ElementTree as ET"
   ]
  },
  {
   "cell_type": "code",
   "execution_count": 34,
   "id": "exotic-given",
   "metadata": {},
   "outputs": [],
   "source": [
    "tree = ET.parse('../static/data/moex/moex-2021-03-18.xml')\n",
    "root = tree.getroot()"
   ]
  },
  {
   "cell_type": "code",
   "execution_count": 35,
   "id": "nutritional-geometry",
   "metadata": {},
   "outputs": [],
   "source": [
    "rows = root.findall('./data/rows/row')"
   ]
  },
  {
   "cell_type": "code",
   "execution_count": 40,
   "id": "buried-sense",
   "metadata": {},
   "outputs": [],
   "source": [
    "tqbr_rows = filter(lambda row: row.get('BOARDID') == 'TQBR', rows)"
   ]
  },
  {
   "cell_type": "code",
   "execution_count": 41,
   "id": "caroline-cattle",
   "metadata": {},
   "outputs": [
    {
     "name": "stdout",
     "output_type": "stream",
     "text": [
      "ACKO 6.1 6.9 6.02 6.24\n",
      "AFKS 35.441 35.64 34.368 34.438\n",
      "AFLT 69.92 70.12 68.14 69.18\n",
      "AGRO 889.6 910.8 882 900.4\n",
      "AKRN 6010 6010 5990 5992\n",
      "ALBK 58.5 58.5 57.5 58\n",
      "ALNU 61800 61800 61200 61600\n",
      "ALRS 106.49 108.7 105.39 107.16\n",
      "AMEZ 7.42 7.575 7.375 7.49\n",
      "APTK 13.522 13.6 13.482 13.496\n",
      "AQUA 275.5 279.5 255 264\n",
      "ARSA 3.84 3.87 3.84 3.87\n",
      "ASSB 0.9045 0.905 0.8875 0.8895\n",
      "AVAN 1040 1055 1040 1055\n",
      "BANE 1690 1705 1683 1698.5\n",
      "BANEP 1310 1310 1273 1292\n",
      "BELU 3366 3845 3322 3511\n",
      "BISVP 9.99 10 9.85 9.9\n",
      "BLNG 6.1 6.118 6.002 6.11\n",
      "BRZL 1026 1035 1021 1028\n",
      "BSPB 57.52 58.41 57.52 57.83\n",
      "CBOM 6.72 6.949 6.72 6.939\n",
      "CHEP 307.5 308.5 303 307\n",
      "CHGZ 46.6 46.6 44.8 45.8\n",
      "CHKZ 5960 5960 5940 5940\n",
      "CHMF 1420.6 1440.6 1406.2 1411.4\n",
      "CHMK 3155 3260 3140 3185\n",
      "CNTL 17 17.2 17 17.18\n",
      "CNTLP 15.9 15.96 15.86 15.9\n",
      "DIOD 7.07 7.16 7.07 7.09\n",
      "DSKY 134.44 136.26 133.5 134.5\n",
      "DVEC 0.781 0.805 0.78 0.793\n",
      "DZRD 2190 2230 2185 2185\n",
      "DZRDP 1620 1620 1600 1620\n",
      "EELT 7.42 7.44 7.32 7.4\n",
      "ELTZ 168 173.5 165.5 167\n",
      "ENPG 790.5 809.5 789 794.5\n",
      "ENRU 0.8165 0.8185 0.8 0.8065\n",
      "ETLN 123 123.9 122.02 122.6\n",
      "FEES 0.2141 0.21498 0.2107 0.2109\n",
      "FESH 12.09 12.09 11.9 12\n",
      "FIVE 2571 2678 2564 2609.5\n",
      "FIXP 710.7 716.8 706 716\n",
      "FLOT 91.4 91.44 90.5 90.96\n",
      "GAZA 438.5 484 438.5 475.5\n",
      "GAZAP 360 375.5 360 371\n",
      "GAZP 230 231.79 223.7 224.35\n"
     ]
    }
   ],
   "source": [
    "for row in tqbr_rows:\n",
    "    security_id = row.get('SECID')\n",
    "    open_value = row.get('OPEN')\n",
    "    high_value = row.get('HIGH')\n",
    "    low_value = row.get('LOW')\n",
    "    close_value = row.get('CLOSE')\n",
    "    if open_value:\n",
    "        print(security_id, open_value, high_value, low_value, close_value)"
   ]
  },
  {
   "cell_type": "code",
   "execution_count": 46,
   "id": "composite-encyclopedia",
   "metadata": {},
   "outputs": [],
   "source": [
    "total_row = filter(lambda row: 'TOTAL' in row.attrib, rows)"
   ]
  },
  {
   "cell_type": "code",
   "execution_count": 47,
   "id": "existing-clinton",
   "metadata": {},
   "outputs": [
    {
     "name": "stdout",
     "output_type": "stream",
     "text": [
      "523 100\n"
     ]
    }
   ],
   "source": [
    "for row in total_row:\n",
    "    print(row.get('TOTAL'), row.get('PAGESIZE'))"
   ]
  },
  {
   "cell_type": "code",
   "execution_count": null,
   "id": "ideal-magnet",
   "metadata": {},
   "outputs": [],
   "source": []
  }
 ],
 "metadata": {
  "kernelspec": {
   "display_name": "Python 3",
   "language": "python",
   "name": "python3"
  },
  "language_info": {
   "codemirror_mode": {
    "name": "ipython",
    "version": 3
   },
   "file_extension": ".py",
   "mimetype": "text/x-python",
   "name": "python",
   "nbconvert_exporter": "python",
   "pygments_lexer": "ipython3",
   "version": "3.7.4"
  }
 },
 "nbformat": 4,
 "nbformat_minor": 5
}
